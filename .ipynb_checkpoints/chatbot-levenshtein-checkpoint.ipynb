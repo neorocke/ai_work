{
 "cells": [
  {
   "cell_type": "markdown",
   "id": "5b71e8e3-9673-4043-bcbe-165d9fd76d79",
   "metadata": {},
   "source": [
    "레벤슈타인 거리를 이용한 챗봇 구하기\n",
    "\n",
    "14주차 실습 자료를 참고하여,\n",
    "기존 TF-IDF와 Consine Similarlity를 이용해 챗봇을 구현한 코드를\n",
    "레벤슈타인 거리를 기반으로 한 챗봇으로 수정하여 구현하시오.\n",
    "\n",
    "학습 데이터 : 14주차 실습 데이터에 포함된 ChatbotData.csv\n",
    "\n",
    "\n",
    "\n",
    "상세 설명:  \n",
    "\n",
    "1. 학습데이터의 질문과 chat의 질문의 유사도를 레벤슈타인 거리를 이용해 구하기\n",
    "2. chat의 질문과 레벤슈타인 거리와 가장 유사한 학습데이터의 질문의 인덱스를 구하기\n",
    "3. 학습 데이터의 인덱스의 답을 chat의 답변을 채택한 뒤 출력\n",
    "\n",
    "과제 제출방법: 과제를 구현한 코드를 본인의 github에 올린뒤, github의 주소를 과제로 제출하기\n",
    "\n",
    "과제 조건\n",
    "\n",
    "\n",
    "1. 코드에 대한 상세한 주석달기 (올바르게 작동되는 코드와 주석을 모두 제출했다면 100점)\n",
    "2. gihub을 이용하지 못하는 학생은 워드 파일로 코드와 결과 화면 캡처후 제출 (부분 점수 80점)\n",
    "3. 코드가 돌아가지 못하면 돌아가지 못하는 부분에 대한 주석을 달고 부분점수 획득 가능\n",
    "3. 절대로 타인과 과제를 공유하지 말 것 (캡처본 파일을 검사하여 동일 파일일 경우 0점 처리)\n",
    "6. 과제를 제대로 수행하지 못했지만, 제출만 했을 경우, 제출 점수 20점\n",
    "\n"
   ]
  },
  {
   "cell_type": "code",
   "execution_count": null,
   "id": "c5312f97-b04f-458d-8dee-c0c4190d03a5",
   "metadata": {},
   "outputs": [],
   "source": [
    "!pip install pandas"
   ]
  },
  {
   "cell_type": "code",
   "execution_count": 3,
   "id": "8a014d15-566a-4a8e-b10b-49e089b2699a",
   "metadata": {},
   "outputs": [],
   "source": [
    "import pandas as pd\n",
    "\n",
    "class SimpleChatBot_levenshtein:\n",
    "    # 클래스 초기화\n",
    "    def __init__(self, filepath):\n",
    "        self.questions, self.answers = self.load_data(filepath)\n",
    "\n",
    "    # 데이터 로드\n",
    "    def load_data(self, filepath):\n",
    "        data = pd.read_csv(filepath)\n",
    "        questions = data['Q'].tolist()  # 질문열만 뽑아 파이썬 리스트로 저장\n",
    "        answers = data['A'].tolist()   # 답변열만 뽑아 파이썬 리스트로 저장\n",
    "        return questions, answers\n",
    "\n",
    "    # levenshtein_distance 거리 계산\n",
    "    def levenshtein_distance(self, str1, str2):\n",
    "        m = len(str1)\n",
    "        n = len(str2)\n",
    "        # 2차원 배열 초기화\n",
    "        dp = [[0] * (n + 1) for _ in range(m + 1)]\n",
    "\n",
    "        # 초기값 설정\n",
    "        for i in range(m + 1):\n",
    "            dp[i][0] = i\n",
    "        for j in range(n + 1):\n",
    "            dp[0][j] = j\n",
    "\n",
    "        # 편집 거리 계산\n",
    "        for i in range(1, m + 1):\n",
    "            for j in range(1, n + 1):\n",
    "                if str1[i - 1] == str2[j - 1]:\n",
    "                    dp[i][j] = dp[i - 1][j - 1]\n",
    "                else:\n",
    "                    dp[i][j] = min(dp[i - 1][j], dp[i][j - 1], dp[i - 1][j - 1]) + 1\n",
    "\n",
    "        return dp[m][n]\n",
    "    \n",
    "    # 문자 유사도 측정\n",
    "    def sentence_similarity(self, sentence1, sentence2):\n",
    "        distance = [] # 반환 값을 담을 리스트 초기화\n",
    "        len_question = len(sentence2) # Questions의 길이 저장\n",
    "        for i in range(0,len_question):\n",
    "            distance.append(self.levenshtein_distance(sentence1, sentence2[i])) # 거리를 계산하여 리스트에 저장\n",
    "        return distance\n",
    "\n",
    "    # 답변 채택\n",
    "    def find_best_answer(self, input_sentence):\n",
    "        similarities = self.sentence_similarity(input_sentence,self.questions) # levenshtein 거리를 리스트 형식으로 반환 \n",
    "        best_match_index = similarities.index(min(similarities))   # 유사도 값이 가장 작은 값의 인덱스를 반환\n",
    "        print(self.questions[best_match_index] + \" 의 인덱스 값은 ====>  \" + str(best_match_index))\n",
    "        return self.answers[best_match_index]\n",
    "    "
   ]
  },
  {
   "cell_type": "code",
   "execution_count": null,
   "id": "7e602aec-32f9-4135-a39c-c890391eadd7",
   "metadata": {},
   "outputs": [
    {
     "name": "stdin",
     "output_type": "stream",
     "text": [
      "You:  안녕하세요.\n"
     ]
    },
    {
     "name": "stdout",
     "output_type": "stream",
     "text": [
      "안녕하세요 의 인덱스 값은 ====>  2951\n",
      "Chatbot: 안녕하세요.\n"
     ]
    },
    {
     "name": "stdin",
     "output_type": "stream",
     "text": [
      "You:  당신은 누구인가요?\n"
     ]
    },
    {
     "name": "stdout",
     "output_type": "stream",
     "text": [
      "나는 누구인가 의 인덱스 값은 ====>  583\n",
      "Chatbot: 저도 궁금하네요.\n"
     ]
    }
   ],
   "source": [
    "# CSV 파일 경로를 지정하세요.\n",
    "filepath = 'ChatbotData.csv'\n",
    "\n",
    "# 간단한 챗봇 인스턴스를 생성합니다.\n",
    "chatbot = SimpleChatBot_levenshtein(filepath)\n",
    "\n",
    "# '종료'라는 단어가 입력될 때까지 챗봇과의 대화를 반복합니다.\n",
    "while True:\n",
    "    input_sentence = input('You: ')\n",
    "    if input_sentence.lower() == '종료':\n",
    "        break\n",
    "    response = chatbot.find_best_answer(input_sentence)\n",
    "    print('Chatbot:', response)\n",
    "    "
   ]
  },
  {
   "cell_type": "code",
   "execution_count": null,
   "id": "3f8da15b-9f4a-46d6-9322-fb86b20922b2",
   "metadata": {},
   "outputs": [],
   "source": []
  }
 ],
 "metadata": {
  "kernelspec": {
   "display_name": "Python 3",
   "language": "python",
   "name": "python3"
  },
  "language_info": {
   "codemirror_mode": {
    "name": "ipython",
    "version": 3
   },
   "file_extension": ".py",
   "mimetype": "text/x-python",
   "name": "python",
   "nbconvert_exporter": "python",
   "pygments_lexer": "ipython3",
   "version": "3.8.10"
  }
 },
 "nbformat": 4,
 "nbformat_minor": 5
}
